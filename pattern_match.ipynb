{
  "nbformat": 4,
  "nbformat_minor": 0,
  "metadata": {
    "colab": {
      "provenance": [],
      "authorship_tag": "ABX9TyOJCR6fMldvYs0a7ygQWzBg",
      "include_colab_link": true
    },
    "kernelspec": {
      "name": "python3",
      "display_name": "Python 3"
    },
    "language_info": {
      "name": "python"
    }
  },
  "cells": [
    {
      "cell_type": "markdown",
      "metadata": {
        "id": "view-in-github",
        "colab_type": "text"
      },
      "source": [
        "<a href=\"https://colab.research.google.com/github/steveakl/python-getch-with-signal/blob/main/pattern_match.ipynb\" target=\"_parent\"><img src=\"https://colab.research.google.com/assets/colab-badge.svg\" alt=\"Open In Colab\"/></a>"
      ]
    },
    {
      "cell_type": "code",
      "execution_count": 3,
      "metadata": {
        "id": "zheo04M25dBs"
      },
      "outputs": [],
      "source": [
        "import numpy as np"
      ]
    },
    {
      "cell_type": "code",
      "source": [
        "from PIL import Image, ImageDraw\n"
      ],
      "metadata": {
        "id": "Ty-JAUzb5lP2"
      },
      "execution_count": 4,
      "outputs": []
    },
    {
      "cell_type": "code",
      "source": [],
      "metadata": {
        "id": "v-Xf66RZ7K4O"
      },
      "execution_count": 36,
      "outputs": []
    },
    {
      "cell_type": "code",
      "source": [
        "# find the coordinates of the pattern in the whole image\n",
        "im = Image.open('/content/t-f000000-a.png')\n",
        "im = Image.open('/content/t-f000000-a-grayscale.png')\n",
        "data1 = np.asarray(im)\n",
        "im1 = ImageDraw.Draw(im)\n",
        "w,h = im.size\n",
        "for y in range (0,h):\n",
        "  shape = (0,y),(w,y)\n",
        "  ink = (255, 255, 255, 0)\n",
        "  #ink = 'red'\n",
        "  ink=0\n",
        "  im1.line(shape,fill=ink, width=1)\n",
        "  data2 = np.asarray(im)\n",
        "  #print (data)\n",
        "  #data1.shape\n",
        "  if (data1 == data2).all() == False:\n",
        "    print (y)\n",
        "    break\n",
        "\n",
        "im = Image.open('/content/t-f000000-a.png')\n",
        "im = Image.open('/content/t-f000000-a-grayscale.png')\n",
        "im0 = im\n",
        "\n",
        "#input(\"paused\")\n",
        "data1 = np.asarray(im)\n",
        "im1 = ImageDraw.Draw(im)\n",
        "w,h = im.size\n",
        "for x in range (0,w,10):\n",
        "  shape = (x,0),(x,h)\n",
        "  ink = (255, 255, 255, 0)\n",
        "  #ink = 'red'\n",
        "  ink=0\n",
        "  im1.line(shape,fill=ink, width=1)\n",
        "  data2 = np.asarray(im)\n",
        "  #print (data)\n",
        "  #data1.shape\n",
        "  if (data1 == data2).all() == False:\n",
        "    print ('x=',x)\n",
        "    break\n",
        "#im0\n",
        "im"
      ],
      "metadata": {
        "colab": {
          "base_uri": "https://localhost:8080/",
          "height": 534
        },
        "id": "CWQOHNMo7-LE",
        "outputId": "fbb48dd8-a619-4541-f3d2-04f5f39860a9"
      },
      "execution_count": 77,
      "outputs": [
        {
          "output_type": "stream",
          "name": "stdout",
          "text": [
            "257\n",
            "x= 1020\n"
          ]
        },
        {
          "output_type": "execute_result",
          "data": {
            "text/plain": [
              "<PIL.PngImagePlugin.PngImageFile image mode=P size=1280x720 at 0x7F566C3EE810>"
            ],
            "image/png": "[encoded data removed]"
          },
          "metadata": {},
          "execution_count": 77
        }
      ]
    },
    {
      "cell_type": "code",
      "source": [],
      "metadata": {
        "id": "vXekb1on7_Ig"
      },
      "execution_count": 64,
      "outputs": []
    },
    {
      "cell_type": "code",
      "source": [],
      "metadata": {
        "id": "RA0-7qBHA5NZ"
      },
      "execution_count": null,
      "outputs": []
    }
  ]
}